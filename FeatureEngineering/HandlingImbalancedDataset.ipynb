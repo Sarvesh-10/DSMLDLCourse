{
 "cells": [
  {
   "cell_type": "markdown",
   "id": "199f40c5-e15c-4924-bb94-4a3f576e1868",
   "metadata": {},
   "source": [
    "## Handling Imbalanced dataset\n",
    "The problem with imbalance dataset is if you train a model based on this it will be very biased towards one with high data\n",
    "There are 2 techniques to deal with this\n",
    "1. upsampling\n",
    "2. downsampling"
   ]
  },
  {
   "cell_type": "code",
   "execution_count": 1,
   "id": "12e19cac-d336-4da5-9941-9ec69fac4bb5",
   "metadata": {},
   "outputs": [],
   "source": [
    "import numpy as np\n",
    "import pandas as pd\n",
    "\n",
    "# Set the random seed for reproducibility\n",
    "np.random.seed(123)\n",
    "\n",
    "# Create a dataframe with two classes\n",
    "n_samples = 1000\n",
    "class_0_ratio = 0.9\n",
    "n_class_0 = int(n_samples * class_0_ratio)\n",
    "n_class_1 = n_samples - n_class_0"
   ]
  },
  {
   "cell_type": "code",
   "execution_count": 2,
   "id": "d71e2171-f055-4cf6-8870-a31985090f78",
   "metadata": {},
   "outputs": [
    {
     "data": {
      "text/plain": [
       "(900, 100)"
      ]
     },
     "execution_count": 2,
     "metadata": {},
     "output_type": "execute_result"
    }
   ],
   "source": [
    "n_class_0,n_class_1"
   ]
  },
  {
   "cell_type": "markdown",
   "id": "6d5fd5e9-2194-4320-8ee0-8a80b13bdd07",
   "metadata": {},
   "source": [
    "### Creating the imbalanced dataset"
   ]
  },
  {
   "cell_type": "code",
   "execution_count": 3,
   "id": "d4c6f011-24d7-478c-9c6f-47678b790cea",
   "metadata": {},
   "outputs": [
    {
     "name": "stdout",
     "output_type": "stream",
     "text": [
      "The history saving thread hit an unexpected error (OperationalError('attempt to write a readonly database')).History will not be written to the database.\n"
     ]
    }
   ],
   "source": [
    "class_0 = pd.DataFrame({\n",
    "    'feature_1': np.random.normal(loc=0, scale=1, size=n_class_0),\n",
    "    'feature_2': np.random.normal(loc=0, scale=1, size=n_class_0),\n",
    "    'target': [0] * n_class_0\n",
    "})\n",
    "\n",
    "class_1 = pd.DataFrame({\n",
    "    'feature_1': np.random.normal(loc=2, scale=1, size=n_class_1),\n",
    "    'feature_2': np.random.normal(loc=2, scale=1, size=n_class_1),\n",
    "    'target': [1] * n_class_1\n",
    "})"
   ]
  },
  {
   "cell_type": "code",
   "execution_count": 4,
   "id": "62b67f79-cedb-4567-9d51-44d5120c4282",
   "metadata": {},
   "outputs": [],
   "source": [
    "df=pd.concat([class_0,class_1]).reset_index(drop=True)"
   ]
  },
  {
   "cell_type": "code",
   "execution_count": 5,
   "id": "66560978-9d11-497b-863a-4b97594ee02d",
   "metadata": {},
   "outputs": [
    {
     "data": {
      "text/html": [
       "<div>\n",
       "<style scoped>\n",
       "    .dataframe tbody tr th:only-of-type {\n",
       "        vertical-align: middle;\n",
       "    }\n",
       "\n",
       "    .dataframe tbody tr th {\n",
       "        vertical-align: top;\n",
       "    }\n",
       "\n",
       "    .dataframe thead th {\n",
       "        text-align: right;\n",
       "    }\n",
       "</style>\n",
       "<table border=\"1\" class=\"dataframe\">\n",
       "  <thead>\n",
       "    <tr style=\"text-align: right;\">\n",
       "      <th></th>\n",
       "      <th>feature_1</th>\n",
       "      <th>feature_2</th>\n",
       "      <th>target</th>\n",
       "    </tr>\n",
       "  </thead>\n",
       "  <tbody>\n",
       "    <tr>\n",
       "      <th>0</th>\n",
       "      <td>-1.085631</td>\n",
       "      <td>0.551302</td>\n",
       "      <td>0</td>\n",
       "    </tr>\n",
       "    <tr>\n",
       "      <th>1</th>\n",
       "      <td>0.997345</td>\n",
       "      <td>0.419589</td>\n",
       "      <td>0</td>\n",
       "    </tr>\n",
       "    <tr>\n",
       "      <th>2</th>\n",
       "      <td>0.282978</td>\n",
       "      <td>1.815652</td>\n",
       "      <td>0</td>\n",
       "    </tr>\n",
       "    <tr>\n",
       "      <th>3</th>\n",
       "      <td>-1.506295</td>\n",
       "      <td>-0.252750</td>\n",
       "      <td>0</td>\n",
       "    </tr>\n",
       "    <tr>\n",
       "      <th>4</th>\n",
       "      <td>-0.578600</td>\n",
       "      <td>-0.292004</td>\n",
       "      <td>0</td>\n",
       "    </tr>\n",
       "  </tbody>\n",
       "</table>\n",
       "</div>"
      ],
      "text/plain": [
       "   feature_1  feature_2  target\n",
       "0  -1.085631   0.551302       0\n",
       "1   0.997345   0.419589       0\n",
       "2   0.282978   1.815652       0\n",
       "3  -1.506295  -0.252750       0\n",
       "4  -0.578600  -0.292004       0"
      ]
     },
     "execution_count": 5,
     "metadata": {},
     "output_type": "execute_result"
    }
   ],
   "source": [
    "df.head()"
   ]
  },
  {
   "cell_type": "markdown",
   "id": "173c8b42-45e9-433c-a920-3636dfbe2442",
   "metadata": {},
   "source": [
    "## Upsampling"
   ]
  },
  {
   "cell_type": "code",
   "execution_count": 6,
   "id": "ac699ebb-f95d-44f6-bece-5a41f74fee1b",
   "metadata": {},
   "outputs": [],
   "source": [
    "df_minority = df[df['target'] ==1]\n",
    "df_majority = df[df['target'] ==0]\n"
   ]
  },
  {
   "cell_type": "code",
   "execution_count": 7,
   "id": "c9518952-6685-48b9-957d-bfa8dea4164d",
   "metadata": {},
   "outputs": [],
   "source": [
    "from sklearn.utils import resample"
   ]
  },
  {
   "cell_type": "code",
   "execution_count": 8,
   "id": "6edc1c74-bff6-4438-aa3f-34e2a5dc5d2e",
   "metadata": {},
   "outputs": [],
   "source": [
    "df_minority_upsampled=resample(df_minority,replace=True,n_samples=len(df_majority),random_state=42)\n",
    "         "
   ]
  },
  {
   "cell_type": "code",
   "execution_count": 9,
   "id": "8791cb60-e021-4ea4-9602-5e9e6ea9f0fa",
   "metadata": {},
   "outputs": [
    {
     "data": {
      "text/plain": [
       "(900, 3)"
      ]
     },
     "execution_count": 9,
     "metadata": {},
     "output_type": "execute_result"
    }
   ],
   "source": [
    "df_minority_upsampled.shape"
   ]
  },
  {
   "cell_type": "code",
   "execution_count": 10,
   "id": "07be480a-ba56-41b9-83b4-29f0d13f5f78",
   "metadata": {},
   "outputs": [],
   "source": [
    "df_upsampled = pd.concat([df_majority,df_minority_upsampled])"
   ]
  },
  {
   "cell_type": "code",
   "execution_count": 13,
   "id": "673c63b3-03c0-4d7e-80e4-860d93d7353e",
   "metadata": {},
   "outputs": [
    {
     "data": {
      "text/plain": [
       "target\n",
       "0    900\n",
       "1    900\n",
       "Name: count, dtype: int64"
      ]
     },
     "execution_count": 13,
     "metadata": {},
     "output_type": "execute_result"
    }
   ],
   "source": [
    "df_upsampled['target'].value_counts()"
   ]
  },
  {
   "cell_type": "markdown",
   "id": "d6efd91f-b7df-4686-a93d-6abed9ab9201",
   "metadata": {},
   "source": [
    "## Downsampling"
   ]
  },
  {
   "cell_type": "markdown",
   "id": "0e149a5a-f02e-4366-9ded-d22ccd06673d",
   "metadata": {},
   "source": [
    "### Creating the dataset"
   ]
  },
  {
   "cell_type": "code",
   "execution_count": 14,
   "id": "fd0b55fa-82ea-43c9-bc06-21a2907cdf07",
   "metadata": {},
   "outputs": [],
   "source": [
    "class_0 = pd.DataFrame({\n",
    "    'feature_1': np.random.normal(loc=0, scale=1, size=n_class_0),\n",
    "    'feature_2': np.random.normal(loc=0, scale=1, size=n_class_0),\n",
    "    'target': [0] * n_class_0\n",
    "})\n",
    "\n",
    "class_1 = pd.DataFrame({\n",
    "    'feature_1': np.random.normal(loc=2, scale=1, size=n_class_1),\n",
    "    'feature_2': np.random.normal(loc=2, scale=1, size=n_class_1),\n",
    "    'target': [1] * n_class_1\n",
    "})"
   ]
  },
  {
   "cell_type": "code",
   "execution_count": 15,
   "id": "72da60c2-92e0-4e5a-a44f-2dbafa8c4f36",
   "metadata": {},
   "outputs": [],
   "source": [
    "df_minority = df[df['target'] ==1]\n",
    "df_majority = df[df['target'] ==0]"
   ]
  },
  {
   "cell_type": "code",
   "execution_count": 20,
   "id": "2ec614aa-dd8f-48f4-b45f-20aaed4c97d1",
   "metadata": {},
   "outputs": [
    {
     "data": {
      "text/plain": [
       "100"
      ]
     },
     "execution_count": 20,
     "metadata": {},
     "output_type": "execute_result"
    }
   ],
   "source": [
    "len(df_minority)"
   ]
  },
  {
   "cell_type": "code",
   "execution_count": 16,
   "id": "ae12ee3b-fb6e-4f56-a197-6a0fd230528b",
   "metadata": {},
   "outputs": [],
   "source": [
    "from sklearn.utils import resample"
   ]
  },
  {
   "cell_type": "code",
   "execution_count": 21,
   "id": "825ccd8f-3a18-4968-b5e5-08f2481d243a",
   "metadata": {},
   "outputs": [],
   "source": [
    "df_majority_downsampled=resample(df_majority,n_samples=len(df_minority),random_state=42)"
   ]
  },
  {
   "cell_type": "code",
   "execution_count": 24,
   "id": "55e35811-70d4-4d43-b177-7e134d7f2187",
   "metadata": {},
   "outputs": [
    {
     "data": {
      "text/plain": [
       "(100, 3)"
      ]
     },
     "execution_count": 24,
     "metadata": {},
     "output_type": "execute_result"
    }
   ],
   "source": [
    "df_majority_downsampled.shape"
   ]
  },
  {
   "cell_type": "code",
   "execution_count": 22,
   "id": "a380e06a-c447-4cae-b23b-b87b4d5a4c6c",
   "metadata": {},
   "outputs": [],
   "source": [
    "df_downsampled = pd.concat([df_majority_downsampled,df_minority])"
   ]
  },
  {
   "cell_type": "code",
   "execution_count": 23,
   "id": "5f10b17e-5736-4c68-a2c7-f59e32473b9b",
   "metadata": {},
   "outputs": [
    {
     "data": {
      "text/plain": [
       "(200, 3)"
      ]
     },
     "execution_count": 23,
     "metadata": {},
     "output_type": "execute_result"
    }
   ],
   "source": [
    "df_downsampled.shape"
   ]
  },
  {
   "cell_type": "markdown",
   "id": "324eaf5a-e077-4ca3-90cf-ff0e41e2576f",
   "metadata": {},
   "source": [
    "## About the replace parameter\n",
    "1. replace = True\n",
    "* Means the same data point can be selected multiple times during the sampling process.\n",
    "* This is useful when you are increasing the number of samples (e.g., upsampling the minority class) because you don’t have enough unique samples to reach the desired size.\n",
    "2. replace = False\n",
    "* Ensures each data point is selected at most once in the sampled dataset, retaining uniqueness.\n",
    "* This is ideal for downsampling because the goal is to reduce the number of samples while preserving the diversity of the data."
   ]
  },
  {
   "cell_type": "markdown",
   "id": "bdd02f77-7fcd-4665-a6a9-c90bda97153a",
   "metadata": {},
   "source": [
    "## What is random state? \n",
    "* It’s essentially a seed for the random number generator.\n",
    "* Random processes in programming use a random number generator internally, and the random_state is like a starting point for that generator.\n",
    "* If you set the same random_state value (e.g., 42), you’ll always get the same results when you run the code, even if randomness is involved."
   ]
  },
  {
   "cell_type": "markdown",
   "id": "3e004eaf-b71b-4f78-aaff-9b76ea506f1c",
   "metadata": {},
   "source": [
    "## Why use random_state=42?\n",
    "#### 1.Reproducibility\n",
    "* When working with machine learning models, consistent results are essential for debugging or comparing experiments.\n",
    "* By fixing the random_state, you ensure that others can replicate your results exactly.\n",
    "#### 2. Why 42 Specifically?\n",
    "* **No specific technical reason!** It’s just a widely adopted convention in the data science community.\n",
    "* The choice of 42 is a playful nod to The Hitchhiker’s Guide to the Galaxy by Douglas Adams, where 42 is humorously described as the \"Answer to the Ultimate Question of Life, the Universe, and Everything.\"\n",
    "\n"
   ]
  }
 ],
 "metadata": {
  "kernelspec": {
   "display_name": "Python 3 (ipykernel)",
   "language": "python",
   "name": "python3"
  },
  "language_info": {
   "codemirror_mode": {
    "name": "ipython",
    "version": 3
   },
   "file_extension": ".py",
   "mimetype": "text/x-python",
   "name": "python",
   "nbconvert_exporter": "python",
   "pygments_lexer": "ipython3",
   "version": "3.8.10"
  }
 },
 "nbformat": 4,
 "nbformat_minor": 5
}
